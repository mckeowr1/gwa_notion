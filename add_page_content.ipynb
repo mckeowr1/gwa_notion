{
 "cells": [
  {
   "cell_type": "code",
   "execution_count": 1,
   "metadata": {},
   "outputs": [],
   "source": [
    "import csv\n",
    "#import yaml\n",
    "import argparse\n",
    "import os\n",
    "\n",
    "from typing import Dict, Any\n",
    "\n",
    "#from rich import print\n",
    "from lib.notion import NotionDBInterface\n",
    "from lib.preproc import format_entry\n",
    "\n",
    "#Properties tools \n",
    "from lib.notion_utils import Properties\n",
    "\n",
    "from lib.notion_utils import Children\n",
    "\n",
    "#Create Page Tools\n",
    "from notion_database.page import Page\n",
    "\n",
    "\n",
    "\n",
    "from typing import Dict\n",
    "\n",
    "from notion_database.database import Database\n",
    "from notion_database.page import Page\n",
    "\n"
   ]
  },
  {
   "cell_type": "code",
   "execution_count": null,
   "metadata": {},
   "outputs": [],
   "source": []
  },
  {
   "cell_type": "code",
   "execution_count": 2,
   "metadata": {},
   "outputs": [],
   "source": [
    "ws=\"cb4c9ed3a9034eb09b0a3091a67d510a\"\n",
    "pin=\"secret_Q5cktwWfIrqQK6udE6LK5A6Nb0B5QwSvmgVSlJuuooz\"\n",
    "notion = NotionDBInterface(ws, pin)"
   ]
  },
  {
   "cell_type": "code",
   "execution_count": 3,
   "metadata": {},
   "outputs": [],
   "source": [
    "csv_file = open(\"/Users/ryanmckeown/gwa_notion/test_qtl.tsv\", 'r+')\n",
    "csv_reader = csv.DictReader(csv_file, delimiter='\\t')"
   ]
  },
  {
   "cell_type": "code",
   "execution_count": 4,
   "metadata": {},
   "outputs": [
    {
     "name": "stdout",
     "output_type": "stream",
     "text": [
      "{'CHROM': 'II', 'marker': 'II:2222527', 'log10p': '6.248711655806832', 'trait': 'Benomyl', 'startPOS': '1521742', 'peakPOS': '2222527', 'endPOS': '3052938', 'peak_id': '1', 'narrow_h2': '0.28694868454875905'}\n",
      "{'CHROM': 'X', 'marker': 'X:1151514', 'log10p': '4.542405710503864', 'trait': 'Benomyl', 'startPOS': '735773', 'peakPOS': '1151514', 'endPOS': '1522007', 'peak_id': '2', 'narrow_h2': '0.28694868454875905'}\n",
      "{'CHROM': 'X', 'marker': 'X:3277728', 'log10p': '5.217981974570458', 'trait': 'Benomyl', 'startPOS': '2924104', 'peakPOS': '3277728', 'endPOS': '4535118', 'peak_id': '3', 'narrow_h2': '0.28694868454875905'}\n",
      "{'CHROM': 'X', 'marker': 'X:15846154', 'log10p': '5.081738415774318', 'trait': 'Benomyl', 'startPOS': '15184574', 'peakPOS': '15846154', 'endPOS': '16400027', 'peak_id': '4', 'narrow_h2': '0.28694868454875905'}\n"
     ]
    }
   ],
   "source": [
    "for i, row in enumerate(csv_reader):\n",
    "    print(row)"
   ]
  },
  {
   "cell_type": "code",
   "execution_count": 5,
   "metadata": {},
   "outputs": [],
   "source": [
    "formatted_entry = {\n",
    "                'ID':      {'type': 'title',        'value': row['marker']},\n",
    "                'Phenotype':     {'type': 'multi_select', 'value': [row['trait']]},\n",
    "                'log10p':      {'type': 'text',        'value': row['log10p']},\n",
    "                'startPOS':      {'type': 'text',        'value': row['startPOS']},\n",
    "                'peakPOS':      {'type': 'text',        'value': row['peakPOS']},\n",
    "                'endPOS':      {'type': 'text',        'value': row['endPOS']},\n",
    "                'peak_id':      {'type': 'text',        'value': row['peak_id']},\n",
    "                'narrow_h2':      {'type': 'text',        'value': row['narrow_h2']},\n",
    "            }"
   ]
  },
  {
   "cell_type": "code",
   "execution_count": 6,
   "metadata": {},
   "outputs": [],
   "source": [
    "#Define data base features to better understand the page creation function\n",
    "notion.query_database()"
   ]
  },
  {
   "cell_type": "code",
   "execution_count": 7,
   "metadata": {},
   "outputs": [],
   "source": [
    "test_page = Page(notion.integration_token)"
   ]
  },
  {
   "cell_type": "code",
   "execution_count": 22,
   "metadata": {},
   "outputs": [],
   "source": [
    "test_props = Properties.from_entry(formatted_entry)"
   ]
  },
  {
   "cell_type": "markdown",
   "metadata": {},
   "source": [
    "Create a page manually with a single property value"
   ]
  },
  {
   "cell_type": "code",
   "execution_count": 28,
   "metadata": {},
   "outputs": [],
   "source": [
    "test_page.create_page(notion.database_id, properties = test_props)"
   ]
  },
  {
   "attachments": {},
   "cell_type": "markdown",
   "metadata": {},
   "source": [
    "Child format\n",
    "\n",
    "\"children\": [\n",
    "    {\n",
    "        \"object\": \"block\",\n",
    "        \"heading_2\": {\n",
    "            \"rich_text\": [\n",
    "                {\n",
    "                    \"text\": {\n",
    "                        \"content\": \"Lacinato kale\"\n",
    "                    }\n",
    "                }\n",
    "            ]\n",
    "        }\n",
    "    },\n",
    "    {\n",
    "        \"object\": \"block\",\n",
    "        \"paragraph\": {\n",
    "            \"rich_text\": [\n",
    "                {\n",
    "                    \"text\": {\n",
    "                        \"content\": \"Lacinato kale is a variety of kale with a long tradition in Italian cuisine, especially that of Tuscany. It is also known as Tuscan kale, Italian kale, dinosaur kale, kale, flat back kale, palm tree kale, or black Tuscan palm.\",\n",
    "                        \"link\": {\n",
    "                            \"url\": \"https://en.wikipedia.org/wiki/Lacinato_kale\"\n",
    "                        }\n",
    "                    },\n",
    "                    \"href\": \"https://en.wikipedia.org/wiki/Lacinato_kale\"\n",
    "                }\n",
    "            ],\n",
    "            \"color\": \"default\"\n",
    "        }\n",
    "    }\n",
    "]"
   ]
  },
  {
   "cell_type": "code",
   "execution_count": 9,
   "metadata": {},
   "outputs": [],
   "source": [
    "test_child_format = {\n",
    "        \"object\": \"block\",\n",
    "        \"heading_2\": {\n",
    "            \"rich_text\": [\n",
    "                {\n",
    "                    \"text\": {\n",
    "                        \"content\": \"Lacinato kale\"\n",
    "                    }\n",
    "                }\n",
    "            ]\n",
    "        }\n",
    "    }"
   ]
  },
  {
   "attachments": {},
   "cell_type": "markdown",
   "metadata": {},
   "source": [
    "Lets do another child that is a JPEG"
   ]
  },
  {
   "cell_type": "code",
   "execution_count": 15,
   "metadata": {},
   "outputs": [],
   "source": [
    "test_image_format = {\n",
    "  \"type\": \"image\",\n",
    "  \"image\": {\n",
    "    \"type\": \"external\",\n",
    "    \"external\": {\n",
    "        \"url\": \"https://mckeowr1.github.io/gwas_results/20221102_Thiabendazole_CV_combined_GWA_status.png\"\n",
    "    }\n",
    "  }\n",
    "}"
   ]
  },
  {
   "cell_type": "code",
   "execution_count": 24,
   "metadata": {},
   "outputs": [],
   "source": [
    "test_child = Children(test_image_format)"
   ]
  },
  {
   "cell_type": "code",
   "execution_count": 25,
   "metadata": {},
   "outputs": [
    {
     "data": {
      "text/plain": [
       "[]"
      ]
     },
     "execution_count": 25,
     "metadata": {},
     "output_type": "execute_result"
    }
   ],
   "source": [
    "test_child.result"
   ]
  },
  {
   "cell_type": "markdown",
   "metadata": {},
   "source": [
    "Here is how the properties tab is updated \n",
    "self.result.update({col: {\"type\": \"date\", \"date\": text}})"
   ]
  },
  {
   "cell_type": "code",
   "execution_count": 26,
   "metadata": {},
   "outputs": [],
   "source": [
    "test_child.result.append(test_image_format)"
   ]
  },
  {
   "cell_type": "code",
   "execution_count": 27,
   "metadata": {},
   "outputs": [
    {
     "data": {
      "text/plain": [
       "[{'type': 'image',\n",
       "  'image': {'type': 'external',\n",
       "   'external': {'url': 'https://mckeowr1.github.io/gwas_results/20221102_Thiabendazole_CV_combined_GWA_status.png'}}}]"
      ]
     },
     "execution_count": 27,
     "metadata": {},
     "output_type": "execute_result"
    }
   ],
   "source": [
    "test_child.result"
   ]
  },
  {
   "cell_type": "code",
   "execution_count": 28,
   "metadata": {},
   "outputs": [],
   "source": [
    "test_page.create_page(notion.database_id, properties = test_props, children= test_child)"
   ]
  },
  {
   "cell_type": "code",
   "execution_count": 31,
   "metadata": {},
   "outputs": [
    {
     "data": {
      "text/plain": [
       "{'ID': {'type': 'title',\n",
       "  'title': [{'type': 'text', 'text': {'content': 'X:15846154'}}]},\n",
       " 'Phenotype': {'type': 'multi_select', 'multi_select': [{'name': 'Benomyl'}]},\n",
       " 'log10p': {'type': 'rich_text',\n",
       "  'rich_text': [{'type': 'text', 'text': {'content': '5.081738415774318'}}]},\n",
       " 'startPOS': {'type': 'rich_text',\n",
       "  'rich_text': [{'type': 'text', 'text': {'content': '15184574'}}]},\n",
       " 'peakPOS': {'type': 'rich_text',\n",
       "  'rich_text': [{'type': 'text', 'text': {'content': '15846154'}}]},\n",
       " 'endPOS': {'type': 'rich_text',\n",
       "  'rich_text': [{'type': 'text', 'text': {'content': '16400027'}}]},\n",
       " 'peak_id': {'type': 'rich_text',\n",
       "  'rich_text': [{'type': 'text', 'text': {'content': '4'}}]},\n",
       " 'narrow_h2': {'type': 'rich_text',\n",
       "  'rich_text': [{'type': 'text', 'text': {'content': '0.28694868454875905'}}]}}"
      ]
     },
     "execution_count": 31,
     "metadata": {},
     "output_type": "execute_result"
    }
   ],
   "source": [
    "test_props.result"
   ]
  },
  {
   "cell_type": "code",
   "execution_count": null,
   "metadata": {},
   "outputs": [],
   "source": []
  },
  {
   "cell_type": "code",
   "execution_count": null,
   "metadata": {},
   "outputs": [],
   "source": []
  },
  {
   "cell_type": "code",
   "execution_count": 22,
   "metadata": {},
   "outputs": [
    {
     "ename": "AttributeError",
     "evalue": "'NotionDBInterface' object has no attribute 'result'",
     "output_type": "error",
     "traceback": [
      "\u001b[0;31m---------------------------------------------------------------------------\u001b[0m",
      "\u001b[0;31mAttributeError\u001b[0m                            Traceback (most recent call last)",
      "Cell \u001b[0;32mIn[22], line 4\u001b[0m\n\u001b[1;32m      1\u001b[0m \u001b[39mimport\u001b[39;00m \u001b[39mlib\u001b[39;00m\u001b[39m.\u001b[39;00m\u001b[39mnotion_utils\u001b[39;00m \n\u001b[1;32m      3\u001b[0m page \u001b[39m=\u001b[39m Page(notion\u001b[39m.\u001b[39mintegration_token)\n\u001b[0;32m----> 4\u001b[0m notion\u001b[39m.\u001b[39;49mresult\n\u001b[1;32m      7\u001b[0m page\u001b[39m.\u001b[39mcreate_page\n",
      "\u001b[0;31mAttributeError\u001b[0m: 'NotionDBInterface' object has no attribute 'result'"
     ]
    }
   ],
   "source": [
    "\n",
    "page = Page(notion.integration_token)\n",
    "\n",
    "from_entry(formatted_entry)\n",
    "\n",
    "page.create_page"
   ]
  }
 ],
 "metadata": {
  "kernelspec": {
   "display_name": "paperpile",
   "language": "python",
   "name": "python3"
  },
  "language_info": {
   "codemirror_mode": {
    "name": "ipython",
    "version": 3
   },
   "file_extension": ".py",
   "mimetype": "text/x-python",
   "name": "python",
   "nbconvert_exporter": "python",
   "pygments_lexer": "ipython3",
   "version": "3.10.9"
  },
  "orig_nbformat": 4,
  "vscode": {
   "interpreter": {
    "hash": "d3a560c9804ef5806c30c5828b0fca7ceb67a319ec843f447607242e98ee73c9"
   }
  }
 },
 "nbformat": 4,
 "nbformat_minor": 2
}
