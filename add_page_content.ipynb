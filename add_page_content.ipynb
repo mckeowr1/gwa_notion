{
 "cells": [
  {
   "cell_type": "code",
   "execution_count": 70,
   "metadata": {},
   "outputs": [],
   "source": [
    "import csv\n",
    "#import yaml\n",
    "import argparse\n",
    "import os\n",
    "\n",
    "from typing import Dict, Any\n",
    "\n",
    "#from rich import print\n",
    "from lib.notion import NotionDBInterface\n",
    "from lib.preproc import format_entry\n",
    "\n",
    "#Properties tools \n",
    "from lib.notion_utils import Properties\n",
    "from lib.notion_utils import Children\n",
    "\n",
    "\n",
    "#Children tools\n",
    "#from notion_database.children import Children\n",
    "\n",
    "\n",
    "#Create Page Tools\n",
    "from notion_database.page import Page\n",
    "\n",
    "\n",
    "\n",
    "from typing import Dict\n",
    "\n",
    "from notion_database.database import Database\n",
    "from notion_database.page import Page\n",
    "\n"
   ]
  },
  {
   "cell_type": "code",
   "execution_count": null,
   "metadata": {},
   "outputs": [],
   "source": []
  },
  {
   "attachments": {},
   "cell_type": "markdown",
   "metadata": {},
   "source": [
    "Define our database"
   ]
  },
  {
   "cell_type": "code",
   "execution_count": 8,
   "metadata": {},
   "outputs": [],
   "source": [
    "ws=\"cb4c9ed3a9034eb09b0a3091a67d510a\"\n",
    "pin=\"secret_Q5cktwWfIrqQK6udE6LK5A6Nb0B5QwSvmgVSlJuuooz\"\n",
    "notion = NotionDBInterface(ws, pin)"
   ]
  },
  {
   "cell_type": "code",
   "execution_count": 6,
   "metadata": {},
   "outputs": [
    {
     "name": "stdout",
     "output_type": "stream",
     "text": [
      "\u001b[0;31mSignature:\u001b[0m \u001b[0mPage\u001b[0m\u001b[0;34m.\u001b[0m\u001b[0mcreate_page\u001b[0m\u001b[0;34m(\u001b[0m\u001b[0mself\u001b[0m\u001b[0;34m,\u001b[0m \u001b[0mdatabase_id\u001b[0m\u001b[0;34m,\u001b[0m \u001b[0mproperties\u001b[0m\u001b[0;34m=\u001b[0m\u001b[0;32mNone\u001b[0m\u001b[0;34m,\u001b[0m \u001b[0mchildren\u001b[0m\u001b[0;34m=\u001b[0m\u001b[0;32mNone\u001b[0m\u001b[0;34m)\u001b[0m\u001b[0;34m\u001b[0m\u001b[0;34m\u001b[0m\u001b[0m\n",
      "\u001b[0;31mDocstring:\u001b[0m\n",
      "Create a page\n",
      "\n",
      ":param database_id: Identifier for a Notion database\n",
      ":param properties: Property values of this page\n",
      ":param children: Page content for the new page\n",
      ":return:\n",
      "\u001b[0;31mFile:\u001b[0m      ~/anaconda3/envs/notion_upload/lib/python3.11/site-packages/notion_database/page.py\n",
      "\u001b[0;31mType:\u001b[0m      function"
     ]
    }
   ],
   "source": [
    "#Inspect the notion function for creating a page\n",
    "Page.create_page?"
   ]
  },
  {
   "cell_type": "code",
   "execution_count": 9,
   "metadata": {},
   "outputs": [
    {
     "name": "stdout",
     "output_type": "stream",
     "text": [
      "{'CHROM': 'II', 'marker': 'II:2222527', 'log10p': '6.248711655806832', 'trait': 'Benomyl', 'startPOS': '1521742', 'peakPOS': '2222527', 'endPOS': '3052938', 'peak_id': '1', 'narrow_h2': '0.28694868454875905'}\n",
      "{'CHROM': 'X', 'marker': 'X:1151514', 'log10p': '4.542405710503864', 'trait': 'Benomyl', 'startPOS': '735773', 'peakPOS': '1151514', 'endPOS': '1522007', 'peak_id': '2', 'narrow_h2': '0.28694868454875905'}\n",
      "{'CHROM': 'X', 'marker': 'X:3277728', 'log10p': '5.217981974570458', 'trait': 'Benomyl', 'startPOS': '2924104', 'peakPOS': '3277728', 'endPOS': '4535118', 'peak_id': '3', 'narrow_h2': '0.28694868454875905'}\n",
      "{'CHROM': 'X', 'marker': 'X:15846154', 'log10p': '5.081738415774318', 'trait': 'Benomyl', 'startPOS': '15184574', 'peakPOS': '15846154', 'endPOS': '16400027', 'peak_id': '4', 'narrow_h2': '0.28694868454875905'}\n"
     ]
    }
   ],
   "source": [
    "csv_file = open(\"test_qtl.tsv\", 'r+')\n",
    "csv_reader = csv.DictReader(csv_file, delimiter='\\t')\n",
    "for i, row in enumerate(csv_reader):\n",
    "    print(row)"
   ]
  },
  {
   "attachments": {},
   "cell_type": "markdown",
   "metadata": {},
   "source": [
    "We use a function to generate generate this entry from a CSV file. For each row we generate a dictionary to define the page properties. We also want to define some children when we create the page so here is a test property using the last row of the CSV from above."
   ]
  },
  {
   "cell_type": "code",
   "execution_count": 20,
   "metadata": {},
   "outputs": [],
   "source": [
    "formatted_entry = {\n",
    "                'QTL':      {'type': 'title',        'value': row['marker']},\n",
    "                'Phenotype':     {'type': 'multi_select', 'value': [row['trait']]},\n",
    "                'log10p':      {'type': 'text',        'value': row['log10p']},\n",
    "                'startPOS':      {'type': 'text',        'value': row['startPOS']},\n",
    "                'peakPOS':      {'type': 'text',        'value': row['peakPOS']},\n",
    "                'endPOS':      {'type': 'text',        'value': row['endPOS']},\n",
    "                'peak_id':      {'type': 'text',        'value': row['peak_id']},\n",
    "                'narrow_h2':      {'type': 'text',        'value': row['narrow_h2']},\n",
    "            }"
   ]
  },
  {
   "attachments": {},
   "cell_type": "markdown",
   "metadata": {},
   "source": [
    "Now we can create a page with the test properties"
   ]
  },
  {
   "cell_type": "code",
   "execution_count": 30,
   "metadata": {},
   "outputs": [
    {
     "data": {
      "text/plain": [
       "{'QTL': {'type': 'title',\n",
       "  'title': [{'type': 'text', 'text': {'content': 'X:15846154'}}]},\n",
       " 'Phenotype': {'type': 'multi_select', 'multi_select': [{'name': 'Benomyl'}]},\n",
       " 'log10p': {'type': 'rich_text',\n",
       "  'rich_text': [{'type': 'text', 'text': {'content': '5.081738415774318'}}]},\n",
       " 'startPOS': {'type': 'rich_text',\n",
       "  'rich_text': [{'type': 'text', 'text': {'content': '15184574'}}]},\n",
       " 'peakPOS': {'type': 'rich_text',\n",
       "  'rich_text': [{'type': 'text', 'text': {'content': '15846154'}}]},\n",
       " 'endPOS': {'type': 'rich_text',\n",
       "  'rich_text': [{'type': 'text', 'text': {'content': '16400027'}}]},\n",
       " 'peak_id': {'type': 'rich_text',\n",
       "  'rich_text': [{'type': 'text', 'text': {'content': '4'}}]},\n",
       " 'narrow_h2': {'type': 'rich_text',\n",
       "  'rich_text': [{'type': 'text', 'text': {'content': '0.28694868454875905'}}]}}"
      ]
     },
     "execution_count": 30,
     "metadata": {},
     "output_type": "execute_result"
    }
   ],
   "source": [
    "test_props = Properties.from_entry(formatted_entry)\n",
    "test_props.result "
   ]
  },
  {
   "cell_type": "code",
   "execution_count": 72,
   "metadata": {},
   "outputs": [
    {
     "ename": "AttributeError",
     "evalue": "type object 'Children' has no attribute 'result'",
     "output_type": "error",
     "traceback": [
      "\u001b[0;31m---------------------------------------------------------------------------\u001b[0m",
      "\u001b[0;31mAttributeError\u001b[0m                            Traceback (most recent call last)",
      "Cell \u001b[0;32mIn[72], line 1\u001b[0m\n\u001b[0;32m----> 1\u001b[0m Children\u001b[39m.\u001b[39;49mresult\n",
      "\u001b[0;31mAttributeError\u001b[0m: type object 'Children' has no attribute 'result'"
     ]
    }
   ],
   "source": [
    "Children.result"
   ]
  },
  {
   "cell_type": "code",
   "execution_count": null,
   "metadata": {},
   "outputs": [],
   "source": []
  },
  {
   "cell_type": "code",
   "execution_count": null,
   "metadata": {},
   "outputs": [],
   "source": []
  },
  {
   "cell_type": "code",
   "execution_count": 66,
   "metadata": {},
   "outputs": [
    {
     "ename": "NameError",
     "evalue": "name 'cls' is not defined",
     "output_type": "error",
     "traceback": [
      "\u001b[0;31m---------------------------------------------------------------------------\u001b[0m",
      "\u001b[0;31mNameError\u001b[0m                                 Traceback (most recent call last)",
      "Cell \u001b[0;32mIn[66], line 1\u001b[0m\n\u001b[0;32m----> 1\u001b[0m Children\u001b[39m.\u001b[39mset_external_image(result \u001b[39m=\u001b[39m \u001b[39mcls\u001b[39;49m(),url \u001b[39m=\u001b[39m \u001b[39m\"\u001b[39m\u001b[39mhttps://mckeowr1.github.io/gwas_results/20221102_Thiabendazole_CV_combined_GWA_status.png\u001b[39m\u001b[39m\"\u001b[39m)\n",
      "\u001b[0;31mNameError\u001b[0m: name 'cls' is not defined"
     ]
    }
   ],
   "source": [
    "Children.set_external_image(url = \"https://mckeowr1.github.io/gwas_results/20221102_Thiabendazole_CV_combined_GWA_status.png\")"
   ]
  },
  {
   "cell_type": "code",
   "execution_count": null,
   "metadata": {},
   "outputs": [],
   "source": []
  },
  {
   "cell_type": "code",
   "execution_count": null,
   "metadata": {},
   "outputs": [],
   "source": []
  },
  {
   "cell_type": "code",
   "execution_count": null,
   "metadata": {},
   "outputs": [],
   "source": []
  },
  {
   "cell_type": "code",
   "execution_count": null,
   "metadata": {},
   "outputs": [],
   "source": []
  },
  {
   "attachments": {},
   "cell_type": "markdown",
   "metadata": {},
   "source": [
    "Define the test page with the notion integration token "
   ]
  },
  {
   "cell_type": "code",
   "execution_count": 48,
   "metadata": {},
   "outputs": [],
   "source": [
    "test_page = Page(notion.integration_token)"
   ]
  },
  {
   "cell_type": "code",
   "execution_count": 24,
   "metadata": {},
   "outputs": [],
   "source": [
    "test_page.create_page(notion.database_id, properties = test_props)"
   ]
  },
  {
   "attachments": {},
   "cell_type": "markdown",
   "metadata": {},
   "source": [
    "Cool we added a page with properties lets try a child"
   ]
  },
  {
   "cell_type": "code",
   "execution_count": 55,
   "metadata": {},
   "outputs": [],
   "source": [
    "test_image_format = [\n",
    "  {\"type\": \"image\",\n",
    "  \"image\": {\n",
    "    \"type\": \"external\",\n",
    "    \"external\": {\n",
    "        \"url\": \"https://mckeowr1.github.io/gwas_results/20221102_Thiabendazole_CV_combined_GWA_status.png\"\n",
    "    }\n",
    "  }\n",
    "  }\n",
    "]"
   ]
  },
  {
   "attachments": {},
   "cell_type": "markdown",
   "metadata": {},
   "source": [
    "Make sure to delete the page we just created from the notion database"
   ]
  },
  {
   "cell_type": "code",
   "execution_count": 60,
   "metadata": {},
   "outputs": [
    {
     "data": {
      "text/plain": [
       "lib.notion_utils.Properties"
      ]
     },
     "execution_count": 60,
     "metadata": {},
     "output_type": "execute_result"
    }
   ],
   "source": [
    "test_props.result\n",
    "type(test_props)\n",
    "#type(test_props.result)"
   ]
  },
  {
   "cell_type": "code",
   "execution_count": null,
   "metadata": {},
   "outputs": [],
   "source": []
  },
  {
   "cell_type": "code",
   "execution_count": null,
   "metadata": {},
   "outputs": [],
   "source": []
  },
  {
   "cell_type": "code",
   "execution_count": null,
   "metadata": {},
   "outputs": [],
   "source": []
  },
  {
   "cell_type": "code",
   "execution_count": 56,
   "metadata": {},
   "outputs": [
    {
     "ename": "AttributeError",
     "evalue": "'list' object has no attribute 'result'",
     "output_type": "error",
     "traceback": [
      "\u001b[0;31m---------------------------------------------------------------------------\u001b[0m",
      "\u001b[0;31mAttributeError\u001b[0m                            Traceback (most recent call last)",
      "Cell \u001b[0;32mIn[56], line 1\u001b[0m\n\u001b[0;32m----> 1\u001b[0m test_image_format\u001b[39m.\u001b[39;49mresult\n",
      "\u001b[0;31mAttributeError\u001b[0m: 'list' object has no attribute 'result'"
     ]
    }
   ],
   "source": [
    "test_image_format.result"
   ]
  },
  {
   "cell_type": "code",
   "execution_count": null,
   "metadata": {},
   "outputs": [],
   "source": []
  },
  {
   "cell_type": "code",
   "execution_count": null,
   "metadata": {},
   "outputs": [],
   "source": []
  },
  {
   "cell_type": "code",
   "execution_count": null,
   "metadata": {},
   "outputs": [],
   "source": []
  },
  {
   "cell_type": "code",
   "execution_count": 49,
   "metadata": {},
   "outputs": [
    {
     "ename": "AttributeError",
     "evalue": "'dict' object has no attribute 'result'",
     "output_type": "error",
     "traceback": [
      "\u001b[0;31m---------------------------------------------------------------------------\u001b[0m",
      "\u001b[0;31mAttributeError\u001b[0m                            Traceback (most recent call last)",
      "Cell \u001b[0;32mIn[49], line 1\u001b[0m\n\u001b[0;32m----> 1\u001b[0m test_page\u001b[39m.\u001b[39;49mcreate_page(notion\u001b[39m.\u001b[39;49mdatabase_id,properties \u001b[39m=\u001b[39;49m test_props, children \u001b[39m=\u001b[39;49m test_image_format)\n",
      "File \u001b[0;32m~/anaconda3/envs/notion_upload/lib/python3.11/site-packages/notion_database/page.py:50\u001b[0m, in \u001b[0;36mPage.create_page\u001b[0;34m(self, database_id, properties, children)\u001b[0m\n\u001b[1;32m     43\u001b[0m properties \u001b[39m=\u001b[39m properties\n\u001b[1;32m     44\u001b[0m children \u001b[39m=\u001b[39m children\n\u001b[1;32m     45\u001b[0m body \u001b[39m=\u001b[39m {\n\u001b[1;32m     46\u001b[0m     \u001b[39m\"\u001b[39m\u001b[39mparent\u001b[39m\u001b[39m\"\u001b[39m: {\n\u001b[1;32m     47\u001b[0m         \u001b[39m\"\u001b[39m\u001b[39mdatabase_id\u001b[39m\u001b[39m\"\u001b[39m: database_id\n\u001b[1;32m     48\u001b[0m     },\n\u001b[1;32m     49\u001b[0m     \u001b[39m\"\u001b[39m\u001b[39mproperties\u001b[39m\u001b[39m\"\u001b[39m: properties\u001b[39m.\u001b[39mresult,\n\u001b[0;32m---> 50\u001b[0m     \u001b[39m\"\u001b[39m\u001b[39mchildren\u001b[39m\u001b[39m\"\u001b[39m: children\u001b[39m.\u001b[39;49mresult\n\u001b[1;32m     51\u001b[0m }\n\u001b[1;32m     52\u001b[0m \u001b[39mself\u001b[39m\u001b[39m.\u001b[39mresult \u001b[39m=\u001b[39m \u001b[39mself\u001b[39m\u001b[39m.\u001b[39mrequest\u001b[39m.\u001b[39mcall_api_post(\u001b[39mself\u001b[39m\u001b[39m.\u001b[39murl, body)\n\u001b[1;32m     54\u001b[0m \u001b[39mself\u001b[39m\u001b[39m.\u001b[39mcheck_field()\n",
      "\u001b[0;31mAttributeError\u001b[0m: 'dict' object has no attribute 'result'"
     ]
    }
   ],
   "source": [
    "test_page.create_page(notion.database_id,properties = test_props, children = test_image_format)"
   ]
  },
  {
   "cell_type": "code",
   "execution_count": 46,
   "metadata": {},
   "outputs": [
    {
     "ename": "AttributeError",
     "evalue": "type object 'Children' has no attribute 'result'",
     "output_type": "error",
     "traceback": [
      "\u001b[0;31m---------------------------------------------------------------------------\u001b[0m",
      "\u001b[0;31mAttributeError\u001b[0m                            Traceback (most recent call last)",
      "Cell \u001b[0;32mIn[46], line 1\u001b[0m\n\u001b[0;32m----> 1\u001b[0m Children\u001b[39m.\u001b[39;49mresult\n",
      "\u001b[0;31mAttributeError\u001b[0m: type object 'Children' has no attribute 'result'"
     ]
    }
   ],
   "source": [
    "Children.result"
   ]
  },
  {
   "cell_type": "code",
   "execution_count": 44,
   "metadata": {},
   "outputs": [
    {
     "ename": "AttributeError",
     "evalue": "type object 'Children' has no attribute 'set_set_external_image'",
     "output_type": "error",
     "traceback": [
      "\u001b[0;31m---------------------------------------------------------------------------\u001b[0m",
      "\u001b[0;31mAttributeError\u001b[0m                            Traceback (most recent call last)",
      "Cell \u001b[0;32mIn[44], line 1\u001b[0m\n\u001b[0;32m----> 1\u001b[0m Children\u001b[39m.\u001b[39;49mset_set_external_image(\u001b[39m\"\u001b[39m\u001b[39mhttps://mckeowr1.github.io/gwas_results/20221102_Thiabendazole_CV_combined_GWA_status.png\u001b[39m\u001b[39m\"\u001b[39m)\n",
      "\u001b[0;31mAttributeError\u001b[0m: type object 'Children' has no attribute 'set_set_external_image'"
     ]
    }
   ],
   "source": [
    "Children.set_set_external_image(\"https://mckeowr1.github.io/gwas_results/20221102_Thiabendazole_CV_combined_GWA_status.png\")"
   ]
  },
  {
   "cell_type": "code",
   "execution_count": 74,
   "metadata": {},
   "outputs": [
    {
     "ename": "NameError",
     "evalue": "name 'notion_utils' is not defined",
     "output_type": "error",
     "traceback": [
      "\u001b[0;31m---------------------------------------------------------------------------\u001b[0m",
      "\u001b[0;31mNameError\u001b[0m                                 Traceback (most recent call last)",
      "Cell \u001b[0;32mIn[74], line 1\u001b[0m\n\u001b[0;32m----> 1\u001b[0m notion_utils\u001b[39m.\u001b[39mChildren\n",
      "\u001b[0;31mNameError\u001b[0m: name 'notion_utils' is not defined"
     ]
    }
   ],
   "source": [
    "notion_utils.Children"
   ]
  },
  {
   "cell_type": "code",
   "execution_count": 75,
   "metadata": {},
   "outputs": [],
   "source": [
    "from lib.notion_utils import Children"
   ]
  },
  {
   "cell_type": "code",
   "execution_count": 83,
   "metadata": {},
   "outputs": [
    {
     "ename": "AttributeError",
     "evalue": "type object 'Children' has no attribute 'set_external_image'",
     "output_type": "error",
     "traceback": [
      "\u001b[0;31m---------------------------------------------------------------------------\u001b[0m",
      "\u001b[0;31mAttributeError\u001b[0m                            Traceback (most recent call last)",
      "Cell \u001b[0;32mIn[83], line 1\u001b[0m\n\u001b[0;32m----> 1\u001b[0m Children\u001b[39m.\u001b[39;49mset_external_image(\u001b[39m\"\u001b[39m\u001b[39mhttps://mckeowr1.github.io/gwas_results/20221102_Thiabendazole_CV_combined_GWA_status.png\u001b[39m\u001b[39m\"\u001b[39m)\n",
      "\u001b[0;31mAttributeError\u001b[0m: type object 'Children' has no attribute 'set_external_image'"
     ]
    }
   ],
   "source": [
    "Children.set_external_image(\"https://mckeowr1.github.io/gwas_results/20221102_Thiabendazole_CV_combined_GWA_status.png\")"
   ]
  },
  {
   "cell_type": "code",
   "execution_count": 85,
   "metadata": {},
   "outputs": [
    {
     "ename": "AttributeError",
     "evalue": "type object 'Properties' has no attribute 'result'",
     "output_type": "error",
     "traceback": [
      "\u001b[0;31m---------------------------------------------------------------------------\u001b[0m",
      "\u001b[0;31mAttributeError\u001b[0m                            Traceback (most recent call last)",
      "Cell \u001b[0;32mIn[85], line 1\u001b[0m\n\u001b[0;32m----> 1\u001b[0m Properties\u001b[39m.\u001b[39;49mresult\n",
      "\u001b[0;31mAttributeError\u001b[0m: type object 'Properties' has no attribute 'result'"
     ]
    }
   ],
   "source": [
    "Properties.result"
   ]
  },
  {
   "cell_type": "code",
   "execution_count": null,
   "metadata": {},
   "outputs": [],
   "source": []
  },
  {
   "cell_type": "code",
   "execution_count": null,
   "metadata": {},
   "outputs": [],
   "source": []
  },
  {
   "cell_type": "code",
   "execution_count": null,
   "metadata": {},
   "outputs": [],
   "source": []
  },
  {
   "cell_type": "code",
   "execution_count": null,
   "metadata": {},
   "outputs": [],
   "source": []
  },
  {
   "cell_type": "code",
   "execution_count": null,
   "metadata": {},
   "outputs": [],
   "source": []
  },
  {
   "cell_type": "code",
   "execution_count": null,
   "metadata": {},
   "outputs": [],
   "source": []
  },
  {
   "cell_type": "code",
   "execution_count": null,
   "metadata": {},
   "outputs": [],
   "source": []
  },
  {
   "cell_type": "code",
   "execution_count": null,
   "metadata": {},
   "outputs": [],
   "source": []
  },
  {
   "cell_type": "code",
   "execution_count": null,
   "metadata": {},
   "outputs": [],
   "source": []
  },
  {
   "cell_type": "code",
   "execution_count": null,
   "metadata": {},
   "outputs": [],
   "source": []
  },
  {
   "cell_type": "code",
   "execution_count": null,
   "metadata": {},
   "outputs": [],
   "source": []
  },
  {
   "cell_type": "code",
   "execution_count": null,
   "metadata": {},
   "outputs": [],
   "source": []
  },
  {
   "cell_type": "code",
   "execution_count": null,
   "metadata": {},
   "outputs": [],
   "source": []
  },
  {
   "cell_type": "code",
   "execution_count": 4,
   "metadata": {},
   "outputs": [
    {
     "name": "stdout",
     "output_type": "stream",
     "text": [
      "{'CHROM': 'II', 'marker': 'II:2222527', 'log10p': '6.248711655806832', 'trait': 'Benomyl', 'startPOS': '1521742', 'peakPOS': '2222527', 'endPOS': '3052938', 'peak_id': '1', 'narrow_h2': '0.28694868454875905'}\n",
      "{'CHROM': 'X', 'marker': 'X:1151514', 'log10p': '4.542405710503864', 'trait': 'Benomyl', 'startPOS': '735773', 'peakPOS': '1151514', 'endPOS': '1522007', 'peak_id': '2', 'narrow_h2': '0.28694868454875905'}\n",
      "{'CHROM': 'X', 'marker': 'X:3277728', 'log10p': '5.217981974570458', 'trait': 'Benomyl', 'startPOS': '2924104', 'peakPOS': '3277728', 'endPOS': '4535118', 'peak_id': '3', 'narrow_h2': '0.28694868454875905'}\n",
      "{'CHROM': 'X', 'marker': 'X:15846154', 'log10p': '5.081738415774318', 'trait': 'Benomyl', 'startPOS': '15184574', 'peakPOS': '15846154', 'endPOS': '16400027', 'peak_id': '4', 'narrow_h2': '0.28694868454875905'}\n"
     ]
    }
   ],
   "source": [
    "for i, row in enumerate(csv_reader):\n",
    "    print(row)"
   ]
  },
  {
   "cell_type": "code",
   "execution_count": 6,
   "metadata": {},
   "outputs": [],
   "source": [
    "#Define data base features to better understand the page creation function\n",
    "notion.query_database()"
   ]
  },
  {
   "cell_type": "code",
   "execution_count": 16,
   "metadata": {},
   "outputs": [
    {
     "data": {
      "text/plain": [
       "{'ID': {'type': 'title',\n",
       "  'title': [{'type': 'text', 'text': {'content': 'X:15846154'}}]},\n",
       " 'Phenotype': {'type': 'multi_select', 'multi_select': [{'name': 'Benomyl'}]},\n",
       " 'log10p': {'type': 'rich_text',\n",
       "  'rich_text': [{'type': 'text', 'text': {'content': '5.081738415774318'}}]},\n",
       " 'startPOS': {'type': 'rich_text',\n",
       "  'rich_text': [{'type': 'text', 'text': {'content': '15184574'}}]},\n",
       " 'peakPOS': {'type': 'rich_text',\n",
       "  'rich_text': [{'type': 'text', 'text': {'content': '15846154'}}]},\n",
       " 'endPOS': {'type': 'rich_text',\n",
       "  'rich_text': [{'type': 'text', 'text': {'content': '16400027'}}]},\n",
       " 'peak_id': {'type': 'rich_text',\n",
       "  'rich_text': [{'type': 'text', 'text': {'content': '4'}}]},\n",
       " 'narrow_h2': {'type': 'rich_text',\n",
       "  'rich_text': [{'type': 'text', 'text': {'content': '0.28694868454875905'}}]}}"
      ]
     },
     "execution_count": 16,
     "metadata": {},
     "output_type": "execute_result"
    }
   ],
   "source": [
    "test_props.result"
   ]
  },
  {
   "cell_type": "markdown",
   "metadata": {},
   "source": [
    "Create a page manually with a single property value"
   ]
  },
  {
   "cell_type": "code",
   "execution_count": 17,
   "metadata": {},
   "outputs": [],
   "source": [
    "test_page.create_page(notion.database_id, properties = test_props)"
   ]
  },
  {
   "attachments": {},
   "cell_type": "markdown",
   "metadata": {},
   "source": [
    "Child format\n",
    "\n",
    "\"children\": [\n",
    "    {\n",
    "        \"object\": \"block\",\n",
    "        \"heading_2\": {\n",
    "            \"rich_text\": [\n",
    "                {\n",
    "                    \"text\": {\n",
    "                        \"content\": \"Lacinato kale\"\n",
    "                    }\n",
    "                }\n",
    "            ]\n",
    "        }\n",
    "    },\n",
    "    {\n",
    "        \"object\": \"block\",\n",
    "        \"paragraph\": {\n",
    "            \"rich_text\": [\n",
    "                {\n",
    "                    \"text\": {\n",
    "                        \"content\": \"Lacinato kale is a variety of kale with a long tradition in Italian cuisine, especially that of Tuscany. It is also known as Tuscan kale, Italian kale, dinosaur kale, kale, flat back kale, palm tree kale, or black Tuscan palm.\",\n",
    "                        \"link\": {\n",
    "                            \"url\": \"https://en.wikipedia.org/wiki/Lacinato_kale\"\n",
    "                        }\n",
    "                    },\n",
    "                    \"href\": \"https://en.wikipedia.org/wiki/Lacinato_kale\"\n",
    "                }\n",
    "            ],\n",
    "            \"color\": \"default\"\n",
    "        }\n",
    "    }\n",
    "]"
   ]
  },
  {
   "cell_type": "code",
   "execution_count": 36,
   "metadata": {},
   "outputs": [],
   "source": [
    "test_child_format = \t\t{\n",
    "\t\t\t\"object\": \"block\",\n",
    "\t\t\t\"type\": \"heading_2\",\n",
    "\t\t\t\"heading_2\": {\n",
    "\t\t\t\t\"rich_text\": [{ \"type\": \"text\", \"text\": { \"content\": \"Lacinato kale\" } }]\n",
    "\t\t\t}\n",
    "\t\t}"
   ]
  },
  {
   "cell_type": "code",
   "execution_count": 37,
   "metadata": {},
   "outputs": [],
   "source": [
    "test_image_format = {\n",
    "  \"type\": \"image\",\n",
    "  \"image\": {\n",
    "    \"type\": \"external\",\n",
    "    \"external\": {\n",
    "        \"url\": \"https://mckeowr1.github.io/gwas_results/20221102_Thiabendazole_CV_combined_GWA_status.png\"\n",
    "    }\n",
    "  }\n",
    "}"
   ]
  },
  {
   "cell_type": "code",
   "execution_count": 38,
   "metadata": {},
   "outputs": [
    {
     "data": {
      "text/plain": [
       "[]"
      ]
     },
     "execution_count": 38,
     "metadata": {},
     "output_type": "execute_result"
    }
   ],
   "source": [
    "test_child.result"
   ]
  },
  {
   "cell_type": "markdown",
   "metadata": {},
   "source": [
    "Here is how the properties tab is updated \n",
    "self.result.update({col: {\"type\": \"date\", \"date\": text}})"
   ]
  },
  {
   "cell_type": "code",
   "execution_count": 42,
   "metadata": {},
   "outputs": [
    {
     "ename": "AttributeError",
     "evalue": "'list' object has no attribute 'update'",
     "output_type": "error",
     "traceback": [
      "\u001b[0;31m---------------------------------------------------------------------------\u001b[0m",
      "\u001b[0;31mAttributeError\u001b[0m                            Traceback (most recent call last)",
      "Cell \u001b[0;32mIn[42], line 1\u001b[0m\n\u001b[0;32m----> 1\u001b[0m test_child\u001b[39m.\u001b[39;49mresult\u001b[39m.\u001b[39;49mupdate(test_child_format)\n",
      "\u001b[0;31mAttributeError\u001b[0m: 'list' object has no attribute 'update'"
     ]
    }
   ],
   "source": [
    "test_child.result.append(test_image_format)"
   ]
  },
  {
   "cell_type": "code",
   "execution_count": 34,
   "metadata": {},
   "outputs": [
    {
     "data": {
      "text/plain": [
       "[({'object': 'block',\n",
       "   'type': 'heading_2',\n",
       "   'heading_2': {'rich_text': [{'type': 'text',\n",
       "      'text': {'content': 'Lacinato kale'}}]}},)]"
      ]
     },
     "execution_count": 34,
     "metadata": {},
     "output_type": "execute_result"
    }
   ],
   "source": [
    "test_child.result"
   ]
  },
  {
   "cell_type": "code",
   "execution_count": null,
   "metadata": {},
   "outputs": [],
   "source": []
  },
  {
   "cell_type": "code",
   "execution_count": 35,
   "metadata": {},
   "outputs": [
    {
     "name": "stderr",
     "output_type": "stream",
     "text": [
      "This version of the API does not support this type of block type. Please upgrade your API version.\n"
     ]
    },
    {
     "ename": "ValueError",
     "evalue": "validation_error",
     "output_type": "error",
     "traceback": [
      "\u001b[0;31m---------------------------------------------------------------------------\u001b[0m",
      "\u001b[0;31mValueError\u001b[0m                                Traceback (most recent call last)",
      "Cell \u001b[0;32mIn[35], line 1\u001b[0m\n\u001b[0;32m----> 1\u001b[0m test_page\u001b[39m.\u001b[39;49mcreate_page(notion\u001b[39m.\u001b[39;49mdatabase_id, properties \u001b[39m=\u001b[39;49m test_props, children\u001b[39m=\u001b[39;49m test_child)\n",
      "File \u001b[0;32m~/opt/miniconda3/envs/paperpile/lib/python3.10/site-packages/notion_database/page.py:34\u001b[0m, in \u001b[0;36mPage.create_page\u001b[0;34m(self, database_id, properties, children)\u001b[0m\n\u001b[1;32m     25\u001b[0m body \u001b[39m=\u001b[39m {\n\u001b[1;32m     26\u001b[0m     \u001b[39m\"\u001b[39m\u001b[39mparent\u001b[39m\u001b[39m\"\u001b[39m: {\n\u001b[1;32m     27\u001b[0m         \u001b[39m\"\u001b[39m\u001b[39mdatabase_id\u001b[39m\u001b[39m\"\u001b[39m: database_id\n\u001b[0;32m   (...)\u001b[0m\n\u001b[1;32m     30\u001b[0m     \u001b[39m\"\u001b[39m\u001b[39mchildren\u001b[39m\u001b[39m\"\u001b[39m: children\u001b[39m.\u001b[39mresult\n\u001b[1;32m     31\u001b[0m }\n\u001b[1;32m     32\u001b[0m \u001b[39mself\u001b[39m\u001b[39m.\u001b[39mresult \u001b[39m=\u001b[39m \u001b[39mself\u001b[39m\u001b[39m.\u001b[39mrequest\u001b[39m.\u001b[39mcall_api_post(\u001b[39mself\u001b[39m\u001b[39m.\u001b[39murl, body)\n\u001b[0;32m---> 34\u001b[0m \u001b[39mself\u001b[39;49m\u001b[39m.\u001b[39;49mcheck_field()\n",
      "File \u001b[0;32m~/opt/miniconda3/envs/paperpile/lib/python3.10/site-packages/notion_database/page.py:57\u001b[0m, in \u001b[0;36mPage.check_field\u001b[0;34m(self)\u001b[0m\n\u001b[1;32m     55\u001b[0m \u001b[39mif\u001b[39;00m \u001b[39mself\u001b[39m\u001b[39m.\u001b[39mresult[\u001b[39m\"\u001b[39m\u001b[39mobject\u001b[39m\u001b[39m\"\u001b[39m] \u001b[39m==\u001b[39m \u001b[39m\"\u001b[39m\u001b[39merror\u001b[39m\u001b[39m\"\u001b[39m:\n\u001b[1;32m     56\u001b[0m     LOGGER\u001b[39m.\u001b[39merror(\u001b[39mself\u001b[39m\u001b[39m.\u001b[39mresult[\u001b[39m\"\u001b[39m\u001b[39mmessage\u001b[39m\u001b[39m\"\u001b[39m])\n\u001b[0;32m---> 57\u001b[0m     \u001b[39mraise\u001b[39;00m \u001b[39mValueError\u001b[39;00m(\u001b[39mself\u001b[39m\u001b[39m.\u001b[39mresult[\u001b[39m\"\u001b[39m\u001b[39mcode\u001b[39m\u001b[39m\"\u001b[39m])\n",
      "\u001b[0;31mValueError\u001b[0m: validation_error"
     ]
    }
   ],
   "source": [
    "test_page.create_page(notion.database_id, properties = test_props, children= test_child)"
   ]
  },
  {
   "cell_type": "code",
   "execution_count": 31,
   "metadata": {},
   "outputs": [
    {
     "data": {
      "text/plain": [
       "{'ID': {'type': 'title',\n",
       "  'title': [{'type': 'text', 'text': {'content': 'X:15846154'}}]},\n",
       " 'Phenotype': {'type': 'multi_select', 'multi_select': [{'name': 'Benomyl'}]},\n",
       " 'log10p': {'type': 'rich_text',\n",
       "  'rich_text': [{'type': 'text', 'text': {'content': '5.081738415774318'}}]},\n",
       " 'startPOS': {'type': 'rich_text',\n",
       "  'rich_text': [{'type': 'text', 'text': {'content': '15184574'}}]},\n",
       " 'peakPOS': {'type': 'rich_text',\n",
       "  'rich_text': [{'type': 'text', 'text': {'content': '15846154'}}]},\n",
       " 'endPOS': {'type': 'rich_text',\n",
       "  'rich_text': [{'type': 'text', 'text': {'content': '16400027'}}]},\n",
       " 'peak_id': {'type': 'rich_text',\n",
       "  'rich_text': [{'type': 'text', 'text': {'content': '4'}}]},\n",
       " 'narrow_h2': {'type': 'rich_text',\n",
       "  'rich_text': [{'type': 'text', 'text': {'content': '0.28694868454875905'}}]}}"
      ]
     },
     "execution_count": 31,
     "metadata": {},
     "output_type": "execute_result"
    }
   ],
   "source": [
    "test_props.result"
   ]
  },
  {
   "cell_type": "code",
   "execution_count": null,
   "metadata": {},
   "outputs": [],
   "source": []
  },
  {
   "cell_type": "code",
   "execution_count": null,
   "metadata": {},
   "outputs": [],
   "source": []
  },
  {
   "cell_type": "code",
   "execution_count": 22,
   "metadata": {},
   "outputs": [
    {
     "ename": "AttributeError",
     "evalue": "'NotionDBInterface' object has no attribute 'result'",
     "output_type": "error",
     "traceback": [
      "\u001b[0;31m---------------------------------------------------------------------------\u001b[0m",
      "\u001b[0;31mAttributeError\u001b[0m                            Traceback (most recent call last)",
      "Cell \u001b[0;32mIn[22], line 4\u001b[0m\n\u001b[1;32m      1\u001b[0m \u001b[39mimport\u001b[39;00m \u001b[39mlib\u001b[39;00m\u001b[39m.\u001b[39;00m\u001b[39mnotion_utils\u001b[39;00m \n\u001b[1;32m      3\u001b[0m page \u001b[39m=\u001b[39m Page(notion\u001b[39m.\u001b[39mintegration_token)\n\u001b[0;32m----> 4\u001b[0m notion\u001b[39m.\u001b[39;49mresult\n\u001b[1;32m      7\u001b[0m page\u001b[39m.\u001b[39mcreate_page\n",
      "\u001b[0;31mAttributeError\u001b[0m: 'NotionDBInterface' object has no attribute 'result'"
     ]
    }
   ],
   "source": [
    "\n",
    "page = Page(notion.integration_token)\n",
    "\n",
    "from_entry(formatted_entry)\n",
    "\n",
    "page.create_page"
   ]
  }
 ],
 "metadata": {
  "kernelspec": {
   "display_name": "paperpile",
   "language": "python",
   "name": "python3"
  },
  "language_info": {
   "codemirror_mode": {
    "name": "ipython",
    "version": 3
   },
   "file_extension": ".py",
   "mimetype": "text/x-python",
   "name": "python",
   "nbconvert_exporter": "python",
   "pygments_lexer": "ipython3",
   "version": "3.11.2"
  },
  "orig_nbformat": 4,
  "vscode": {
   "interpreter": {
    "hash": "d3a560c9804ef5806c30c5828b0fca7ceb67a319ec843f447607242e98ee73c9"
   }
  }
 },
 "nbformat": 4,
 "nbformat_minor": 2
}
