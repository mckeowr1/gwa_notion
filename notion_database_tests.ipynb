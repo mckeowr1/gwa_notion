{
 "cells": [
  {
   "cell_type": "code",
   "execution_count": null,
   "metadata": {},
   "outputs": [],
   "source": []
  },
  {
   "cell_type": "markdown",
   "metadata": {},
   "source": []
  },
  {
   "cell_type": "markdown",
   "metadata": {},
   "source": [
    "So this is the format of the dictionary im going to create \n",
    "\n",
    "```\n",
    "    formatted_entry = {\n",
    "        'Item type':  {'type': 'select',       'value': entry['Item type'].strip()},\n",
    "        'Authors':    {'type': 'multi_select', 'value': entry['Authors'].strip().split(',')},\n",
    "        'Title':      {'type': 'title',        'value': entry['Title'].strip().replace('{','').replace('}','')},\n",
    "        'Venues':     {'type': 'multi_select', 'value': venue},\n",
    "        'Date':       {'type': 'date',         'value': date},\n",
    "        'Link':       {'type': 'url',          'value': selected_link},\n",
    "        'Categories': {'type': 'multi_select', 'value': categories},#, 'color': [COLOR_MAP[cat]['color'] for cat in categories]}\n",
    "        'Methods':    {'type': 'multi_select', 'value': methods},\n",
    "    }\n",
    "```"
   ]
  },
  {
   "cell_type": "markdown",
   "metadata": {},
   "source": [
    "Lets read in a test QTL to try and create this dictionary "
   ]
  },
  {
   "cell_type": "code",
   "execution_count": 3,
   "metadata": {},
   "outputs": [],
   "source": [
    "import csv\n"
   ]
  },
  {
   "cell_type": "code",
   "execution_count": 4,
   "metadata": {},
   "outputs": [],
   "source": [
    "csv_file = open(\"test_qtl.tsv\", 'r+')\n",
    "csv_reader = csv.DictReader(csv_file, delimiter='\\t')"
   ]
  },
  {
   "cell_type": "markdown",
   "metadata": {},
   "source": []
  },
  {
   "cell_type": "code",
   "execution_count": 5,
   "metadata": {},
   "outputs": [
    {
     "name": "stdout",
     "output_type": "stream",
     "text": [
      "{'CHROM': 'II', 'marker': 'II:2222527', 'log10p': '6.248711655806832', 'trait': 'Benomyl', 'startPOS': '1521742', 'peakPOS': '2222527', 'endPOS': '3052938', 'peak_id': '1', 'narrow_h2': '0.28694868454875905'}\n",
      "{'CHROM': 'X', 'marker': 'X:1151514', 'log10p': '4.542405710503864', 'trait': 'Benomyl', 'startPOS': '735773', 'peakPOS': '1151514', 'endPOS': '1522007', 'peak_id': '2', 'narrow_h2': '0.28694868454875905'}\n",
      "{'CHROM': 'X', 'marker': 'X:3277728', 'log10p': '5.217981974570458', 'trait': 'Benomyl', 'startPOS': '2924104', 'peakPOS': '3277728', 'endPOS': '4535118', 'peak_id': '3', 'narrow_h2': '0.28694868454875905'}\n",
      "{'CHROM': 'X', 'marker': 'X:15846154', 'log10p': '5.081738415774318', 'trait': 'Benomyl', 'startPOS': '15184574', 'peakPOS': '15846154', 'endPOS': '16400027', 'peak_id': '4', 'narrow_h2': '0.28694868454875905'}\n"
     ]
    }
   ],
   "source": [
    "for i, row in enumerate(csv_reader):\n",
    "    print(row)"
   ]
  },
  {
   "cell_type": "code",
   "execution_count": 6,
   "metadata": {},
   "outputs": [],
   "source": [
    "test_row = row "
   ]
  },
  {
   "cell_type": "code",
   "execution_count": 7,
   "metadata": {},
   "outputs": [
    {
     "data": {
      "text/plain": [
       "'X:15846154'"
      ]
     },
     "execution_count": 7,
     "metadata": {},
     "output_type": "execute_result"
    }
   ],
   "source": [
    "test_row['marker']"
   ]
  },
  {
   "cell_type": "code",
   "execution_count": 9,
   "metadata": {},
   "outputs": [
    {
     "data": {
      "text/plain": [
       "{'ID': {'type': 'title', 'value': 'X:15846154'},\n",
       " 'Phenotype': {'type': 'multi_select', 'value': ['Benomyl']},\n",
       " 'log10p': {'type': 'text', 'value': '5.081738415774318'},\n",
       " 'startPOS': {'type': 'text', 'value': '15184574'},\n",
       " 'peakPOS': {'type': 'text', 'value': '15846154'},\n",
       " 'endPOS': {'type': 'text', 'value': '16400027'},\n",
       " 'peak_id': {'type': 'text', 'value': '4'},\n",
       " 'narrow_h2': {'type': 'text', 'value': '0.28694868454875905'}}"
      ]
     },
     "execution_count": 9,
     "metadata": {},
     "output_type": "execute_result"
    }
   ],
   "source": [
    "formatted_entry = {\n",
    "    'ID':      {'type': 'title',        'value': test_row['marker']},\n",
    "    'Phenotype':     {'type': 'multi_select', 'value': [test_row['trait']]},\n",
    "    'log10p':      {'type': 'text',        'value': test_row['log10p']},\n",
    "    'startPOS':      {'type': 'text',        'value': test_row['startPOS']},\n",
    "    'peakPOS':      {'type': 'text',        'value': test_row['peakPOS']},\n",
    "    'endPOS':      {'type': 'text',        'value': test_row['endPOS']},\n",
    "    'peak_id':      {'type': 'text',        'value': test_row['peak_id']},\n",
    "    'narrow_h2':      {'type': 'text',        'value': test_row['narrow_h2']},\n",
    "}\n",
    "\n",
    "formatted_entry"
   ]
  },
  {
   "cell_type": "code",
   "execution_count": null,
   "metadata": {},
   "outputs": [],
   "source": [
    "pheno = [j['short'] for j in journals if j['name'] == entry['Full journal'].strip()]"
   ]
  },
  {
   "cell_type": "code",
   "execution_count": 13,
   "metadata": {},
   "outputs": [],
   "source": [
    "import csv\n",
    "import yaml\n",
    "import argparse\n",
    "\n",
    "from typing import Dict, Any\n",
    "\n",
    "from rich import print\n",
    "from lib.notion import NotionDBInterface\n",
    "from lib.preproc import format_entry\n"
   ]
  },
  {
   "cell_type": "markdown",
   "metadata": {},
   "source": [
    "So this is where we need a database ID ... lets review how to go get that "
   ]
  },
  {
   "cell_type": "code",
   "execution_count": 11,
   "metadata": {},
   "outputs": [],
   "source": [
    "ws=\"cb4c9ed3a9034eb09b0a3091a67d510a\"\n",
    "pin=\"secret_Q5cktwWfIrqQK6udE6LK5A6Nb0B5QwSvmgVSlJuuooz\""
   ]
  },
  {
   "cell_type": "code",
   "execution_count": 14,
   "metadata": {},
   "outputs": [],
   "source": [
    "notion = NotionDBInterface(ws, pin)\n"
   ]
  },
  {
   "cell_type": "code",
   "execution_count": 38,
   "metadata": {},
   "outputs": [],
   "source": [
    "notion.pages"
   ]
  },
  {
   "cell_type": "code",
   "execution_count": 16,
   "metadata": {},
   "outputs": [],
   "source": [
    "notion.create_page(formatted_entry)"
   ]
  }
 ],
 "metadata": {
  "kernelspec": {
   "display_name": "Python 3.10.9 ('paperpile')",
   "language": "python",
   "name": "python3"
  },
  "language_info": {
   "codemirror_mode": {
    "name": "ipython",
    "version": 3
   },
   "file_extension": ".py",
   "mimetype": "text/x-python",
   "name": "python",
   "nbconvert_exporter": "python",
   "pygments_lexer": "ipython3",
   "version": "3.10.9"
  },
  "orig_nbformat": 4,
  "vscode": {
   "interpreter": {
    "hash": "e530362f773aa1262606a33db0789faaa9f05f8c2775271a789291615169aaad"
   }
  }
 },
 "nbformat": 4,
 "nbformat_minor": 2
}
