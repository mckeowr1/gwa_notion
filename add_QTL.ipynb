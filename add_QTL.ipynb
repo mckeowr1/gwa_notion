{
 "cells": [
  {
   "cell_type": "code",
   "execution_count": 8,
   "metadata": {},
   "outputs": [],
   "source": [
    "import csv\n",
    "import yaml\n",
    "import argparse\n",
    "import os\n",
    "\n",
    "from typing import Dict, Any\n",
    "\n",
    "from rich import print\n",
    "from lib.notion import NotionDBInterface\n",
    "from lib.preproc import format_entry\n"
   ]
  },
  {
   "cell_type": "code",
   "execution_count": 13,
   "metadata": {},
   "outputs": [],
   "source": [
    "ws=\"cb4c9ed3a9034eb09b0a3091a67d510a\"\n",
    "pin=\"secret_Q5cktwWfIrqQK6udE6LK5A6Nb0B5QwSvmgVSlJuuooz\"\n",
    "notion = NotionDBInterface(ws, pin)"
   ]
  },
  {
   "cell_type": "code",
   "execution_count": 16,
   "metadata": {},
   "outputs": [
    {
     "data": {
      "text/plain": [
       "'secret_Q5cktwWfIrqQK6udE6LK5A6Nb0B5QwSvmgVSlJuuooz'"
      ]
     },
     "execution_count": 16,
     "metadata": {},
     "output_type": "execute_result"
    }
   ],
   "source": [
    "notion.integration_token\n",
    "notion.create_page"
   ]
  },
  {
   "cell_type": "code",
   "execution_count": 5,
   "metadata": {},
   "outputs": [],
   "source": [
    "directory = '/Users/ryanmckeown/gwa_notion/data/test_gwa_processed/Processed'\n"
   ]
  },
  {
   "cell_type": "code",
   "execution_count": 12,
   "metadata": {},
   "outputs": [
    {
     "ename": "AttributeError",
     "evalue": "'NotionDBInterface' object has no attribute 'Properties'",
     "output_type": "error",
     "traceback": [
      "\u001b[0;31m---------------------------------------------------------------------------\u001b[0m",
      "\u001b[0;31mAttributeError\u001b[0m                            Traceback (most recent call last)",
      "Cell \u001b[0;32mIn[12], line 1\u001b[0m\n\u001b[0;32m----> 1\u001b[0m notion\u001b[39m.\u001b[39;49mProperties\n",
      "\u001b[0;31mAttributeError\u001b[0m: 'NotionDBInterface' object has no attribute 'Properties'"
     ]
    }
   ],
   "source": [
    "notion.Properties"
   ]
  },
  {
   "cell_type": "markdown",
   "metadata": {},
   "source": []
  },
  {
   "cell_type": "code",
   "execution_count": null,
   "metadata": {},
   "outputs": [],
   "source": [
    "\n"
   ]
  },
  {
   "cell_type": "code",
   "execution_count": 7,
   "metadata": {},
   "outputs": [],
   "source": [
    "for filename in os.listdir(directory):\n",
    "    if filename.endswith('_AGGREGATE_qtl_region_loco.tsv'):\n",
    "        file_path = os.path.join(directory, filename)\n",
    "        csv_file = open(file_path, 'r+')\n",
    "        csv_reader = csv.DictReader(csv_file, delimiter='\\t')\n",
    "\n",
    "        for i, row in enumerate(csv_reader):\n",
    "\n",
    "            formatted_entry = {\n",
    "                'ID':      {'type': 'title',        'value': row['marker']},\n",
    "                'Phenotype':     {'type': 'multi_select', 'value': [row['trait']]},\n",
    "                'log10p':      {'type': 'text',        'value': row['log10p']},\n",
    "                'startPOS':      {'type': 'text',        'value': row['startPOS']},\n",
    "                'peakPOS':      {'type': 'text',        'value': row['peakPOS']},\n",
    "                'endPOS':      {'type': 'text',        'value': row['endPOS']},\n",
    "                'peak_id':      {'type': 'text',        'value': row['peak_id']},\n",
    "                'narrow_h2':      {'type': 'text',        'value': row['narrow_h2']},\n",
    "            }\n",
    "            \n",
    "            notion.create_page(formatted_entry)"
   ]
  },
  {
   "cell_type": "markdown",
   "metadata": {},
   "source": [
    "Define children parameter for page\n",
    "\n"
   ]
  }
 ],
 "metadata": {
  "kernelspec": {
   "display_name": "Python 3.10.9 ('paperpile')",
   "language": "python",
   "name": "python3"
  },
  "language_info": {
   "codemirror_mode": {
    "name": "ipython",
    "version": 3
   },
   "file_extension": ".py",
   "mimetype": "text/x-python",
   "name": "python",
   "nbconvert_exporter": "python",
   "pygments_lexer": "ipython3",
   "version": "3.10.9"
  },
  "orig_nbformat": 4,
  "vscode": {
   "interpreter": {
    "hash": "e530362f773aa1262606a33db0789faaa9f05f8c2775271a789291615169aaad"
   }
  }
 },
 "nbformat": 4,
 "nbformat_minor": 2
}
