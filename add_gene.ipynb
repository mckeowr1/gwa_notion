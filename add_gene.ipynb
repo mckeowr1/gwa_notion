{
 "cells": [
  {
   "cell_type": "code",
   "execution_count": 1,
   "metadata": {},
   "outputs": [],
   "source": [
    "import csv\n",
    "import yaml\n",
    "import argparse\n",
    "import os\n",
    "\n",
    "\n",
    "from lib.notion import NotionDBInterface\n",
    "from lib.preproc import format_entry"
   ]
  },
  {
   "cell_type": "code",
   "execution_count": 9,
   "metadata": {},
   "outputs": [],
   "source": [
    "var_db=\"8d277c93a3a4428b870fcc62431c5e99\"\n",
    "pin=\"secret_Q5cktwWfIrqQK6udE6LK5A6Nb0B5QwSvmgVSlJuuooz\"\n",
    "notion = NotionDBInterface(var_db, pin)"
   ]
  },
  {
   "cell_type": "code",
   "execution_count": 3,
   "metadata": {},
   "outputs": [],
   "source": []
  },
  {
   "cell_type": "code",
   "execution_count": 22,
   "metadata": {},
   "outputs": [],
   "source": []
  },
  {
   "cell_type": "code",
   "execution_count": 12,
   "metadata": {},
   "outputs": [
    {
     "name": "stdout",
     "output_type": "stream",
     "text": [
      "{'GENE_NAME': 'polg-1', 'WBGeneID': 'WBGene00013258', 'min_log10p': '0.0105262066378024', 'max_log10p': '9.16707017674641', 'mean_log10p': '2.03419235145327', 'mean_maf': '0.22435905', 'marker': '2:12199651', 'n_var': '32', 'aa': 'NA,1032C,1020L,890G,884P,839P,788A,722A,630E>630D,614C>614R,611D,430F,298A>298S,295T>295M,103E,101V', 'TOP_VARIANT_LOG10p': '9.16707017674641', 'TOP_VARIANT_MAF': '0.0871795', 'TOP_VARIANT_LD_WITH_PEAK_MARKER': '1', 'new_marker': 'II:12199651'}\n",
      "{'GENE_NAME': 'sre-55', 'WBGeneID': 'WBGene00016830', 'min_log10p': '0.0713681903244203', 'max_log10p': '5.92760375557725', 'mean_log10p': '1.93598159959328', 'mean_maf': '0.248433077777778', 'marker': '2:12199651', 'n_var': '18', 'aa': '14L,48G>48V,104S>104T,153I>153T,198V>198E,233Y,278P,284L,296P>296S', 'TOP_VARIANT_LOG10p': '5.92760375557725', 'TOP_VARIANT_MAF': '0.158974', 'TOP_VARIANT_LD_WITH_PEAK_MARKER': '0.505256', 'new_marker': 'II:12199651'}\n",
      "{'GENE_NAME': 'set-24', 'WBGeneID': 'WBGene00012845', 'min_log10p': '0.0196232833792614', 'max_log10p': '5.81826446476359', 'mean_log10p': '1.15164916854893', 'mean_maf': '0.17692315', 'marker': '2:12199651', 'n_var': '40', 'aa': 'NA,840I,832I>832V,813L,793S,780P>780L,719S>719P,707E>707D,698M>698I,696E,636I>636L,633G>633E,492N>492S,341T,320E>320K,313V,241S>241P,218S,179I>179V,15T', 'TOP_VARIANT_LOG10p': '5.81826446476359', 'TOP_VARIANT_MAF': '0.0666667', 'TOP_VARIANT_LD_WITH_PEAK_MARKER': '0.747899', 'new_marker': 'II:12199651'}\n",
      "{'GENE_NAME': 'sre-56', 'WBGeneID': 'WBGene00016831', 'min_log10p': '0.208777242685063', 'max_log10p': '5.81826446476359', 'mean_log10p': '2.21799501208012', 'mean_maf': '0.274126027272727', 'marker': '2:12199651', 'n_var': '22', 'aa': 'NA,84L>84F,199V>199F,240V>240I,304A>304P,312T>312I', 'TOP_VARIANT_LOG10p': '5.81826446476359', 'TOP_VARIANT_MAF': '0.0666667', 'TOP_VARIANT_LD_WITH_PEAK_MARKER': '0.747899', 'new_marker': 'II:12199651'}\n",
      "{'GENE_NAME': '1B.1', 'WBGeneID': 'WBGene00013255', 'min_log10p': '0.0319324571326817', 'max_log10p': '4.45082809590952', 'mean_log10p': '1.06245367989436', 'mean_maf': '0.13025634', 'marker': '2:12199651', 'n_var': '10', 'aa': 'NA,270S>270A,21L', 'TOP_VARIANT_LOG10p': '4.45082809590952', 'TOP_VARIANT_MAF': '0.117949', 'TOP_VARIANT_LD_WITH_PEAK_MARKER': '0.45702', 'new_marker': 'II:12199651'}\n",
      "{'GENE_NAME': '1B.2', 'WBGeneID': 'WBGene00013268', 'min_log10p': '0.154627793627948', 'max_log10p': '4.45082809590952', 'mean_log10p': '1.11658309989281', 'mean_maf': '0.13333335', 'marker': '2:12199651', 'n_var': '12', 'aa': 'NA,280V>280A,271T,132V,22V>22I', 'TOP_VARIANT_LOG10p': '4.45082809590952', 'TOP_VARIANT_MAF': '0.112821', 'TOP_VARIANT_LD_WITH_PEAK_MARKER': '0.481962', 'new_marker': 'II:12199651'}\n",
      "{'GENE_NAME': 'pqn-87', 'WBGeneID': 'WBGene00004167', 'min_log10p': '0.0319324571326817', 'max_log10p': '4.45082809590952', 'mean_log10p': '2.1299572140184', 'mean_maf': '0.144729377777778', 'marker': '2:12199651', 'n_var': '18', 'aa': 'NA,1086E,1015R,776S', 'TOP_VARIANT_LOG10p': '4.45082809590952', 'TOP_VARIANT_MAF': '0.107692', 'TOP_VARIANT_LD_WITH_PEAK_MARKER': '0.509282', 'new_marker': 'II:12199651'}\n",
      "{'GENE_NAME': 'rsr-2', 'WBGeneID': 'WBGene00013260', 'min_log10p': '0.0319324571326817', 'max_log10p': '4.45082809590952', 'mean_log10p': '1.41715768638867', 'mean_maf': '0.1979486', 'marker': '2:12199651', 'n_var': '10', 'aa': '21S,164L,230E>230Q,399S,NA', 'TOP_VARIANT_LOG10p': '4.45082809590952', 'TOP_VARIANT_MAF': '0.107692', 'TOP_VARIANT_LD_WITH_PEAK_MARKER': '0.509282', 'new_marker': 'II:12199651'}\n",
      "{'GENE_NAME': 'sinh-1', 'WBGeneID': 'WBGene00013261', 'min_log10p': '0.00166638765300877', 'max_log10p': '4.45082809590952', 'mean_log10p': '0.927498502365618', 'mean_maf': '0.23173069375', 'marker': '2:12199651', 'n_var': '32', 'aa': '170M>170K,253S>253L,305E>305D,379S,NA', 'TOP_VARIANT_LOG10p': '4.45082809590952', 'TOP_VARIANT_MAF': '0.112821', 'TOP_VARIANT_LD_WITH_PEAK_MARKER': '0.481962', 'new_marker': 'II:12199651'}\n",
      "{'GENE_NAME': 'tag-276', 'WBGeneID': 'WBGene00013254', 'min_log10p': '0.164761442050555', 'max_log10p': '4.45082809590952', 'mean_log10p': '2.30779476898004', 'mean_maf': '0.1038464', 'marker': '2:12199651', 'n_var': '8', 'aa': '157V,134T,64I,11A>11G', 'TOP_VARIANT_LOG10p': '4.45082809590952', 'TOP_VARIANT_MAF': '0.112821', 'TOP_VARIANT_LD_WITH_PEAK_MARKER': '0.481962', 'new_marker': 'II:12199651'}\n"
     ]
    }
   ],
   "source": [
    "for i, row in enumerate(csv_reader):\n",
    "    print(row)"
   ]
  },
  {
   "cell_type": "code",
   "execution_count": 31,
   "metadata": {},
   "outputs": [
    {
     "name": "stdout",
     "output_type": "stream",
     "text": [
      "{'ID': {'type': 'title', 'value': 'polg-1'}, 'WBGeneID': {'type': 'text', 'value': 'WBGene00013258'}, 'min_log10p': {'type': 'text', 'value': '0.0105262066378024'}, 'max_log10p': {'type': 'text', 'value': '9.16707017674641'}, 'mean_log10p': {'type': 'text', 'value': '2.03419235145327'}, 'mean_maf': {'type': 'text', 'value': '0.22435905'}, 'QTL': {'type': 'text', 'value': 'II:12199651'}, 'n_var': {'type': 'text', 'value': '32'}, 'TOP_VARIANT_MAF': {'type': 'text', 'value': '0.0871795'}, 'TOP_VARIANT_LD_WITH_PEAK_MARKER': {'type': 'text', 'value': '1'}}\n",
      "{'ID': {'type': 'title', 'value': 'sre-55'}, 'WBGeneID': {'type': 'text', 'value': 'WBGene00016830'}, 'min_log10p': {'type': 'text', 'value': '0.0713681903244203'}, 'max_log10p': {'type': 'text', 'value': '5.92760375557725'}, 'mean_log10p': {'type': 'text', 'value': '1.93598159959328'}, 'mean_maf': {'type': 'text', 'value': '0.248433077777778'}, 'QTL': {'type': 'text', 'value': 'II:12199651'}, 'n_var': {'type': 'text', 'value': '18'}, 'TOP_VARIANT_MAF': {'type': 'text', 'value': '0.158974'}, 'TOP_VARIANT_LD_WITH_PEAK_MARKER': {'type': 'text', 'value': '0.505256'}}\n",
      "{'ID': {'type': 'title', 'value': 'set-24'}, 'WBGeneID': {'type': 'text', 'value': 'WBGene00012845'}, 'min_log10p': {'type': 'text', 'value': '0.0196232833792614'}, 'max_log10p': {'type': 'text', 'value': '5.81826446476359'}, 'mean_log10p': {'type': 'text', 'value': '1.15164916854893'}, 'mean_maf': {'type': 'text', 'value': '0.17692315'}, 'QTL': {'type': 'text', 'value': 'II:12199651'}, 'n_var': {'type': 'text', 'value': '40'}, 'TOP_VARIANT_MAF': {'type': 'text', 'value': '0.0666667'}, 'TOP_VARIANT_LD_WITH_PEAK_MARKER': {'type': 'text', 'value': '0.747899'}}\n",
      "{'ID': {'type': 'title', 'value': 'sre-56'}, 'WBGeneID': {'type': 'text', 'value': 'WBGene00016831'}, 'min_log10p': {'type': 'text', 'value': '0.208777242685063'}, 'max_log10p': {'type': 'text', 'value': '5.81826446476359'}, 'mean_log10p': {'type': 'text', 'value': '2.21799501208012'}, 'mean_maf': {'type': 'text', 'value': '0.274126027272727'}, 'QTL': {'type': 'text', 'value': 'II:12199651'}, 'n_var': {'type': 'text', 'value': '22'}, 'TOP_VARIANT_MAF': {'type': 'text', 'value': '0.0666667'}, 'TOP_VARIANT_LD_WITH_PEAK_MARKER': {'type': 'text', 'value': '0.747899'}}\n",
      "{'ID': {'type': 'title', 'value': '1B.1'}, 'WBGeneID': {'type': 'text', 'value': 'WBGene00013255'}, 'min_log10p': {'type': 'text', 'value': '0.0319324571326817'}, 'max_log10p': {'type': 'text', 'value': '4.45082809590952'}, 'mean_log10p': {'type': 'text', 'value': '1.06245367989436'}, 'mean_maf': {'type': 'text', 'value': '0.13025634'}, 'QTL': {'type': 'text', 'value': 'II:12199651'}, 'n_var': {'type': 'text', 'value': '10'}, 'TOP_VARIANT_MAF': {'type': 'text', 'value': '0.117949'}, 'TOP_VARIANT_LD_WITH_PEAK_MARKER': {'type': 'text', 'value': '0.45702'}}\n",
      "{'ID': {'type': 'title', 'value': '1B.2'}, 'WBGeneID': {'type': 'text', 'value': 'WBGene00013268'}, 'min_log10p': {'type': 'text', 'value': '0.154627793627948'}, 'max_log10p': {'type': 'text', 'value': '4.45082809590952'}, 'mean_log10p': {'type': 'text', 'value': '1.11658309989281'}, 'mean_maf': {'type': 'text', 'value': '0.13333335'}, 'QTL': {'type': 'text', 'value': 'II:12199651'}, 'n_var': {'type': 'text', 'value': '12'}, 'TOP_VARIANT_MAF': {'type': 'text', 'value': '0.112821'}, 'TOP_VARIANT_LD_WITH_PEAK_MARKER': {'type': 'text', 'value': '0.481962'}}\n",
      "{'ID': {'type': 'title', 'value': 'pqn-87'}, 'WBGeneID': {'type': 'text', 'value': 'WBGene00004167'}, 'min_log10p': {'type': 'text', 'value': '0.0319324571326817'}, 'max_log10p': {'type': 'text', 'value': '4.45082809590952'}, 'mean_log10p': {'type': 'text', 'value': '2.1299572140184'}, 'mean_maf': {'type': 'text', 'value': '0.144729377777778'}, 'QTL': {'type': 'text', 'value': 'II:12199651'}, 'n_var': {'type': 'text', 'value': '18'}, 'TOP_VARIANT_MAF': {'type': 'text', 'value': '0.107692'}, 'TOP_VARIANT_LD_WITH_PEAK_MARKER': {'type': 'text', 'value': '0.509282'}}\n",
      "{'ID': {'type': 'title', 'value': 'rsr-2'}, 'WBGeneID': {'type': 'text', 'value': 'WBGene00013260'}, 'min_log10p': {'type': 'text', 'value': '0.0319324571326817'}, 'max_log10p': {'type': 'text', 'value': '4.45082809590952'}, 'mean_log10p': {'type': 'text', 'value': '1.41715768638867'}, 'mean_maf': {'type': 'text', 'value': '0.1979486'}, 'QTL': {'type': 'text', 'value': 'II:12199651'}, 'n_var': {'type': 'text', 'value': '10'}, 'TOP_VARIANT_MAF': {'type': 'text', 'value': '0.107692'}, 'TOP_VARIANT_LD_WITH_PEAK_MARKER': {'type': 'text', 'value': '0.509282'}}\n",
      "{'ID': {'type': 'title', 'value': 'sinh-1'}, 'WBGeneID': {'type': 'text', 'value': 'WBGene00013261'}, 'min_log10p': {'type': 'text', 'value': '0.00166638765300877'}, 'max_log10p': {'type': 'text', 'value': '4.45082809590952'}, 'mean_log10p': {'type': 'text', 'value': '0.927498502365618'}, 'mean_maf': {'type': 'text', 'value': '0.23173069375'}, 'QTL': {'type': 'text', 'value': 'II:12199651'}, 'n_var': {'type': 'text', 'value': '32'}, 'TOP_VARIANT_MAF': {'type': 'text', 'value': '0.112821'}, 'TOP_VARIANT_LD_WITH_PEAK_MARKER': {'type': 'text', 'value': '0.481962'}}\n",
      "{'ID': {'type': 'title', 'value': 'tag-276'}, 'WBGeneID': {'type': 'text', 'value': 'WBGene00013254'}, 'min_log10p': {'type': 'text', 'value': '0.164761442050555'}, 'max_log10p': {'type': 'text', 'value': '4.45082809590952'}, 'mean_log10p': {'type': 'text', 'value': '2.30779476898004'}, 'mean_maf': {'type': 'text', 'value': '0.1038464'}, 'QTL': {'type': 'text', 'value': 'II:12199651'}, 'n_var': {'type': 'text', 'value': '8'}, 'TOP_VARIANT_MAF': {'type': 'text', 'value': '0.112821'}, 'TOP_VARIANT_LD_WITH_PEAK_MARKER': {'type': 'text', 'value': '0.481962'}}\n"
     ]
    }
   ],
   "source": [
    "csv_file = open(\"test_variant.csv\", 'r+')\n",
    "csv_reader = csv.DictReader(csv_file, delimiter=',')\n",
    "for i, row in enumerate(csv_reader):\n",
    "\n",
    "    formatted_entry = {\n",
    "        'ID':      {'type': 'title',        'value': row['GENE_NAME']},\n",
    "        #'aa':     {'type': 'multi_select', 'value': [row['aa']]},\n",
    "        'WBGeneID':      {'type': 'text',        'value': row['WBGeneID']},\n",
    "        'min_log10p':      {'type': 'text',        'value': row['min_log10p']},\n",
    "        'max_log10p':      {'type': 'text',        'value': row['max_log10p']},\n",
    "        'mean_log10p':      {'type': 'text',        'value': row['mean_log10p']},\n",
    "        'mean_maf':      {'type': 'text',        'value': row['mean_maf']},\n",
    "        'QTL':      {'type': 'text',        'value': row['new_marker']},\n",
    "        'n_var':      {'type': 'text',        'value': row['n_var']},\n",
    "        'TOP_VARIANT_MAF':      {'type': 'text',        'value': row['TOP_VARIANT_MAF']},\n",
    "        'TOP_VARIANT_LD_WITH_PEAK_MARKER':      {'type': 'text',        'value': row['TOP_VARIANT_LD_WITH_PEAK_MARKER']},\n",
    "\n",
    "    }\n",
    "    notion.create_page(formatted_entry)\n",
    "    print(formatted_entry)"
   ]
  },
  {
   "cell_type": "code",
   "execution_count": 20,
   "metadata": {},
   "outputs": [
    {
     "ename": "NameError",
     "evalue": "name 'formatted_entry' is not defined",
     "output_type": "error",
     "traceback": [
      "\u001b[0;31m---------------------------------------------------------------------------\u001b[0m",
      "\u001b[0;31mNameError\u001b[0m                                 Traceback (most recent call last)",
      "Cell \u001b[0;32mIn[20], line 1\u001b[0m\n\u001b[0;32m----> 1\u001b[0m formatted_entry\n",
      "\u001b[0;31mNameError\u001b[0m: name 'formatted_entry' is not defined"
     ]
    }
   ],
   "source": [
    "formatted_entry"
   ]
  }
 ],
 "metadata": {
  "kernelspec": {
   "display_name": "Python 3.10.9 ('paperpile')",
   "language": "python",
   "name": "python3"
  },
  "language_info": {
   "codemirror_mode": {
    "name": "ipython",
    "version": 3
   },
   "file_extension": ".py",
   "mimetype": "text/x-python",
   "name": "python",
   "nbconvert_exporter": "python",
   "pygments_lexer": "ipython3",
   "version": "3.10.9"
  },
  "orig_nbformat": 4,
  "vscode": {
   "interpreter": {
    "hash": "e530362f773aa1262606a33db0789faaa9f05f8c2775271a789291615169aaad"
   }
  }
 },
 "nbformat": 4,
 "nbformat_minor": 2
}
